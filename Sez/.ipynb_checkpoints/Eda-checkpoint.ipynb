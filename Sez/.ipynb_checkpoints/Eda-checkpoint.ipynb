{
 "cells": [
  {
   "cell_type": "code",
   "execution_count": 1,
   "metadata": {},
   "outputs": [],
   "source": [
    "import pandas as pd\n",
    "import numpy as np\n",
    "import matplotlib.pyplot as plt\n",
    "import seaborn as sns\n",
    "import scipy.stats as stats \n",
    "from statsmodels.stats.power import TTestIndPower, TTestPower\n",
    "\n",
    "import json\n",
    "import time \n",
    "import datetime\n",
    "\n",
    "import requests"
   ]
  },
  {
   "cell_type": "code",
   "execution_count": 2,
   "metadata": {},
   "outputs": [],
   "source": [
    "all_accidents = pd.read_csv('US_Accidents_May19.csv')"
   ]
  },
  {
   "cell_type": "code",
   "execution_count": 3,
   "metadata": {},
   "outputs": [
    {
     "data": {
      "text/html": [
       "<div>\n",
       "<style scoped>\n",
       "    .dataframe tbody tr th:only-of-type {\n",
       "        vertical-align: middle;\n",
       "    }\n",
       "\n",
       "    .dataframe tbody tr th {\n",
       "        vertical-align: top;\n",
       "    }\n",
       "\n",
       "    .dataframe thead th {\n",
       "        text-align: right;\n",
       "    }\n",
       "</style>\n",
       "<table border=\"1\" class=\"dataframe\">\n",
       "  <thead>\n",
       "    <tr style=\"text-align: right;\">\n",
       "      <th></th>\n",
       "      <th>TMC</th>\n",
       "      <th>Severity</th>\n",
       "      <th>Start_Lat</th>\n",
       "      <th>Start_Lng</th>\n",
       "      <th>End_Lat</th>\n",
       "      <th>End_Lng</th>\n",
       "      <th>Distance(mi)</th>\n",
       "      <th>Number</th>\n",
       "      <th>Temperature(F)</th>\n",
       "      <th>Wind_Chill(F)</th>\n",
       "      <th>Humidity(%)</th>\n",
       "      <th>Pressure(in)</th>\n",
       "      <th>Visibility(mi)</th>\n",
       "      <th>Wind_Speed(mph)</th>\n",
       "      <th>Precipitation(in)</th>\n",
       "    </tr>\n",
       "  </thead>\n",
       "  <tbody>\n",
       "    <tr>\n",
       "      <th>count</th>\n",
       "      <td>1.727177e+06</td>\n",
       "      <td>2.243939e+06</td>\n",
       "      <td>2.243939e+06</td>\n",
       "      <td>2.243939e+06</td>\n",
       "      <td>516762.000000</td>\n",
       "      <td>516762.000000</td>\n",
       "      <td>2.243939e+06</td>\n",
       "      <td>785537.000000</td>\n",
       "      <td>2.181674e+06</td>\n",
       "      <td>391569.000000</td>\n",
       "      <td>2.179472e+06</td>\n",
       "      <td>2.186659e+06</td>\n",
       "      <td>2.172579e+06</td>\n",
       "      <td>1.800985e+06</td>\n",
       "      <td>264473.000000</td>\n",
       "    </tr>\n",
       "    <tr>\n",
       "      <th>mean</th>\n",
       "      <td>2.073527e+02</td>\n",
       "      <td>2.382692e+00</td>\n",
       "      <td>3.646348e+01</td>\n",
       "      <td>-9.485567e+01</td>\n",
       "      <td>37.443109</td>\n",
       "      <td>-96.527543</td>\n",
       "      <td>2.879095e-01</td>\n",
       "      <td>5625.281008</td>\n",
       "      <td>6.123244e+01</td>\n",
       "      <td>26.042067</td>\n",
       "      <td>6.592758e+01</td>\n",
       "      <td>3.003747e+01</td>\n",
       "      <td>9.124096e+00</td>\n",
       "      <td>8.844042e+00</td>\n",
       "      <td>0.060439</td>\n",
       "    </tr>\n",
       "    <tr>\n",
       "      <th>std</th>\n",
       "      <td>1.940527e+01</td>\n",
       "      <td>5.488029e-01</td>\n",
       "      <td>4.958759e+00</td>\n",
       "      <td>1.709453e+01</td>\n",
       "      <td>5.126585</td>\n",
       "      <td>17.986406</td>\n",
       "      <td>1.532341e+00</td>\n",
       "      <td>11071.872897</td>\n",
       "      <td>1.914616e+01</td>\n",
       "      <td>13.478333</td>\n",
       "      <td>2.243013e+01</td>\n",
       "      <td>2.267242e-01</td>\n",
       "      <td>2.986359e+00</td>\n",
       "      <td>4.973200e+00</td>\n",
       "      <td>0.439698</td>\n",
       "    </tr>\n",
       "    <tr>\n",
       "      <th>min</th>\n",
       "      <td>2.000000e+02</td>\n",
       "      <td>0.000000e+00</td>\n",
       "      <td>2.457022e+01</td>\n",
       "      <td>-1.246238e+02</td>\n",
       "      <td>24.570110</td>\n",
       "      <td>-124.497829</td>\n",
       "      <td>0.000000e+00</td>\n",
       "      <td>1.000000</td>\n",
       "      <td>-7.780000e+01</td>\n",
       "      <td>-65.900000</td>\n",
       "      <td>4.000000e+00</td>\n",
       "      <td>0.000000e+00</td>\n",
       "      <td>0.000000e+00</td>\n",
       "      <td>1.200000e+00</td>\n",
       "      <td>0.000000</td>\n",
       "    </tr>\n",
       "    <tr>\n",
       "      <th>25%</th>\n",
       "      <td>2.010000e+02</td>\n",
       "      <td>2.000000e+00</td>\n",
       "      <td>3.348468e+01</td>\n",
       "      <td>-1.171362e+02</td>\n",
       "      <td>33.887450</td>\n",
       "      <td>-117.870577</td>\n",
       "      <td>0.000000e+00</td>\n",
       "      <td>803.000000</td>\n",
       "      <td>4.890000e+01</td>\n",
       "      <td>19.200000</td>\n",
       "      <td>5.000000e+01</td>\n",
       "      <td>2.992000e+01</td>\n",
       "      <td>1.000000e+01</td>\n",
       "      <td>5.800000e+00</td>\n",
       "      <td>0.000000</td>\n",
       "    </tr>\n",
       "    <tr>\n",
       "      <th>50%</th>\n",
       "      <td>2.010000e+02</td>\n",
       "      <td>2.000000e+00</td>\n",
       "      <td>3.586428e+01</td>\n",
       "      <td>-8.818469e+01</td>\n",
       "      <td>38.038480</td>\n",
       "      <td>-90.192310</td>\n",
       "      <td>0.000000e+00</td>\n",
       "      <td>2672.000000</td>\n",
       "      <td>6.300000e+01</td>\n",
       "      <td>28.700000</td>\n",
       "      <td>6.800000e+01</td>\n",
       "      <td>3.003000e+01</td>\n",
       "      <td>1.000000e+01</td>\n",
       "      <td>8.100000e+00</td>\n",
       "      <td>0.010000</td>\n",
       "    </tr>\n",
       "    <tr>\n",
       "      <th>75%</th>\n",
       "      <td>2.010000e+02</td>\n",
       "      <td>3.000000e+00</td>\n",
       "      <td>4.042111e+01</td>\n",
       "      <td>-8.085453e+01</td>\n",
       "      <td>41.393320</td>\n",
       "      <td>-80.895040</td>\n",
       "      <td>1.000000e-02</td>\n",
       "      <td>6846.000000</td>\n",
       "      <td>7.590000e+01</td>\n",
       "      <td>36.400000</td>\n",
       "      <td>8.500000e+01</td>\n",
       "      <td>3.015000e+01</td>\n",
       "      <td>1.000000e+01</td>\n",
       "      <td>1.150000e+01</td>\n",
       "      <td>0.040000</td>\n",
       "    </tr>\n",
       "    <tr>\n",
       "      <th>max</th>\n",
       "      <td>4.060000e+02</td>\n",
       "      <td>4.000000e+00</td>\n",
       "      <td>4.900076e+01</td>\n",
       "      <td>-6.711317e+01</td>\n",
       "      <td>49.075000</td>\n",
       "      <td>-67.109242</td>\n",
       "      <td>3.336300e+02</td>\n",
       "      <td>961052.000000</td>\n",
       "      <td>1.706000e+02</td>\n",
       "      <td>45.200000</td>\n",
       "      <td>1.000000e+02</td>\n",
       "      <td>3.304000e+01</td>\n",
       "      <td>1.400000e+02</td>\n",
       "      <td>8.228000e+02</td>\n",
       "      <td>10.800000</td>\n",
       "    </tr>\n",
       "  </tbody>\n",
       "</table>\n",
       "</div>"
      ],
      "text/plain": [
       "                TMC      Severity     Start_Lat     Start_Lng        End_Lat  \\\n",
       "count  1.727177e+06  2.243939e+06  2.243939e+06  2.243939e+06  516762.000000   \n",
       "mean   2.073527e+02  2.382692e+00  3.646348e+01 -9.485567e+01      37.443109   \n",
       "std    1.940527e+01  5.488029e-01  4.958759e+00  1.709453e+01       5.126585   \n",
       "min    2.000000e+02  0.000000e+00  2.457022e+01 -1.246238e+02      24.570110   \n",
       "25%    2.010000e+02  2.000000e+00  3.348468e+01 -1.171362e+02      33.887450   \n",
       "50%    2.010000e+02  2.000000e+00  3.586428e+01 -8.818469e+01      38.038480   \n",
       "75%    2.010000e+02  3.000000e+00  4.042111e+01 -8.085453e+01      41.393320   \n",
       "max    4.060000e+02  4.000000e+00  4.900076e+01 -6.711317e+01      49.075000   \n",
       "\n",
       "             End_Lng  Distance(mi)         Number  Temperature(F)  \\\n",
       "count  516762.000000  2.243939e+06  785537.000000    2.181674e+06   \n",
       "mean      -96.527543  2.879095e-01    5625.281008    6.123244e+01   \n",
       "std        17.986406  1.532341e+00   11071.872897    1.914616e+01   \n",
       "min      -124.497829  0.000000e+00       1.000000   -7.780000e+01   \n",
       "25%      -117.870577  0.000000e+00     803.000000    4.890000e+01   \n",
       "50%       -90.192310  0.000000e+00    2672.000000    6.300000e+01   \n",
       "75%       -80.895040  1.000000e-02    6846.000000    7.590000e+01   \n",
       "max       -67.109242  3.336300e+02  961052.000000    1.706000e+02   \n",
       "\n",
       "       Wind_Chill(F)   Humidity(%)  Pressure(in)  Visibility(mi)  \\\n",
       "count  391569.000000  2.179472e+06  2.186659e+06    2.172579e+06   \n",
       "mean       26.042067  6.592758e+01  3.003747e+01    9.124096e+00   \n",
       "std        13.478333  2.243013e+01  2.267242e-01    2.986359e+00   \n",
       "min       -65.900000  4.000000e+00  0.000000e+00    0.000000e+00   \n",
       "25%        19.200000  5.000000e+01  2.992000e+01    1.000000e+01   \n",
       "50%        28.700000  6.800000e+01  3.003000e+01    1.000000e+01   \n",
       "75%        36.400000  8.500000e+01  3.015000e+01    1.000000e+01   \n",
       "max        45.200000  1.000000e+02  3.304000e+01    1.400000e+02   \n",
       "\n",
       "       Wind_Speed(mph)  Precipitation(in)  \n",
       "count     1.800985e+06      264473.000000  \n",
       "mean      8.844042e+00           0.060439  \n",
       "std       4.973200e+00           0.439698  \n",
       "min       1.200000e+00           0.000000  \n",
       "25%       5.800000e+00           0.000000  \n",
       "50%       8.100000e+00           0.010000  \n",
       "75%       1.150000e+01           0.040000  \n",
       "max       8.228000e+02          10.800000  "
      ]
     },
     "execution_count": 3,
     "metadata": {},
     "output_type": "execute_result"
    }
   ],
   "source": [
    "all_accidents.describe()"
   ]
  },
  {
   "cell_type": "code",
   "execution_count": 4,
   "metadata": {},
   "outputs": [
    {
     "data": {
      "text/plain": [
       "(2243939, 49)"
      ]
     },
     "execution_count": 4,
     "metadata": {},
     "output_type": "execute_result"
    }
   ],
   "source": [
    "all_accidents.shape"
   ]
  },
  {
   "cell_type": "code",
   "execution_count": 5,
   "metadata": {},
   "outputs": [
    {
     "data": {
      "text/html": [
       "<div>\n",
       "<style scoped>\n",
       "    .dataframe tbody tr th:only-of-type {\n",
       "        vertical-align: middle;\n",
       "    }\n",
       "\n",
       "    .dataframe tbody tr th {\n",
       "        vertical-align: top;\n",
       "    }\n",
       "\n",
       "    .dataframe thead th {\n",
       "        text-align: right;\n",
       "    }\n",
       "</style>\n",
       "<table border=\"1\" class=\"dataframe\">\n",
       "  <thead>\n",
       "    <tr style=\"text-align: right;\">\n",
       "      <th></th>\n",
       "      <th>ID</th>\n",
       "      <th>Source</th>\n",
       "      <th>TMC</th>\n",
       "      <th>Severity</th>\n",
       "      <th>Start_Time</th>\n",
       "      <th>End_Time</th>\n",
       "      <th>Start_Lat</th>\n",
       "      <th>Start_Lng</th>\n",
       "      <th>End_Lat</th>\n",
       "      <th>End_Lng</th>\n",
       "      <th>...</th>\n",
       "      <th>Roundabout</th>\n",
       "      <th>Station</th>\n",
       "      <th>Stop</th>\n",
       "      <th>Traffic_Calming</th>\n",
       "      <th>Traffic_Signal</th>\n",
       "      <th>Turning_Loop</th>\n",
       "      <th>Sunrise_Sunset</th>\n",
       "      <th>Civil_Twilight</th>\n",
       "      <th>Nautical_Twilight</th>\n",
       "      <th>Astronomical_Twilight</th>\n",
       "    </tr>\n",
       "  </thead>\n",
       "  <tbody>\n",
       "    <tr>\n",
       "      <th>0</th>\n",
       "      <td>A-1</td>\n",
       "      <td>MapQuest</td>\n",
       "      <td>201.0</td>\n",
       "      <td>3</td>\n",
       "      <td>2016-02-08 05:46:00</td>\n",
       "      <td>2016-02-08 11:00:00</td>\n",
       "      <td>39.865147</td>\n",
       "      <td>-84.058723</td>\n",
       "      <td>NaN</td>\n",
       "      <td>NaN</td>\n",
       "      <td>...</td>\n",
       "      <td>False</td>\n",
       "      <td>False</td>\n",
       "      <td>False</td>\n",
       "      <td>False</td>\n",
       "      <td>False</td>\n",
       "      <td>False</td>\n",
       "      <td>Night</td>\n",
       "      <td>Night</td>\n",
       "      <td>Night</td>\n",
       "      <td>Night</td>\n",
       "    </tr>\n",
       "    <tr>\n",
       "      <th>1</th>\n",
       "      <td>A-2</td>\n",
       "      <td>MapQuest</td>\n",
       "      <td>201.0</td>\n",
       "      <td>2</td>\n",
       "      <td>2016-02-08 06:07:59</td>\n",
       "      <td>2016-02-08 06:37:59</td>\n",
       "      <td>39.928059</td>\n",
       "      <td>-82.831184</td>\n",
       "      <td>NaN</td>\n",
       "      <td>NaN</td>\n",
       "      <td>...</td>\n",
       "      <td>False</td>\n",
       "      <td>False</td>\n",
       "      <td>False</td>\n",
       "      <td>False</td>\n",
       "      <td>False</td>\n",
       "      <td>False</td>\n",
       "      <td>Night</td>\n",
       "      <td>Night</td>\n",
       "      <td>Night</td>\n",
       "      <td>Day</td>\n",
       "    </tr>\n",
       "    <tr>\n",
       "      <th>2</th>\n",
       "      <td>A-3</td>\n",
       "      <td>MapQuest</td>\n",
       "      <td>201.0</td>\n",
       "      <td>2</td>\n",
       "      <td>2016-02-08 06:49:27</td>\n",
       "      <td>2016-02-08 07:19:27</td>\n",
       "      <td>39.063148</td>\n",
       "      <td>-84.032608</td>\n",
       "      <td>NaN</td>\n",
       "      <td>NaN</td>\n",
       "      <td>...</td>\n",
       "      <td>False</td>\n",
       "      <td>False</td>\n",
       "      <td>False</td>\n",
       "      <td>False</td>\n",
       "      <td>True</td>\n",
       "      <td>False</td>\n",
       "      <td>Night</td>\n",
       "      <td>Night</td>\n",
       "      <td>Day</td>\n",
       "      <td>Day</td>\n",
       "    </tr>\n",
       "    <tr>\n",
       "      <th>3</th>\n",
       "      <td>A-4</td>\n",
       "      <td>MapQuest</td>\n",
       "      <td>201.0</td>\n",
       "      <td>3</td>\n",
       "      <td>2016-02-08 07:23:34</td>\n",
       "      <td>2016-02-08 07:53:34</td>\n",
       "      <td>39.747753</td>\n",
       "      <td>-84.205582</td>\n",
       "      <td>NaN</td>\n",
       "      <td>NaN</td>\n",
       "      <td>...</td>\n",
       "      <td>False</td>\n",
       "      <td>False</td>\n",
       "      <td>False</td>\n",
       "      <td>False</td>\n",
       "      <td>False</td>\n",
       "      <td>False</td>\n",
       "      <td>Night</td>\n",
       "      <td>Day</td>\n",
       "      <td>Day</td>\n",
       "      <td>Day</td>\n",
       "    </tr>\n",
       "    <tr>\n",
       "      <th>4</th>\n",
       "      <td>A-5</td>\n",
       "      <td>MapQuest</td>\n",
       "      <td>201.0</td>\n",
       "      <td>2</td>\n",
       "      <td>2016-02-08 07:39:07</td>\n",
       "      <td>2016-02-08 08:09:07</td>\n",
       "      <td>39.627781</td>\n",
       "      <td>-84.188354</td>\n",
       "      <td>NaN</td>\n",
       "      <td>NaN</td>\n",
       "      <td>...</td>\n",
       "      <td>False</td>\n",
       "      <td>False</td>\n",
       "      <td>False</td>\n",
       "      <td>False</td>\n",
       "      <td>True</td>\n",
       "      <td>False</td>\n",
       "      <td>Day</td>\n",
       "      <td>Day</td>\n",
       "      <td>Day</td>\n",
       "      <td>Day</td>\n",
       "    </tr>\n",
       "  </tbody>\n",
       "</table>\n",
       "<p>5 rows × 49 columns</p>\n",
       "</div>"
      ],
      "text/plain": [
       "    ID    Source    TMC  Severity           Start_Time             End_Time  \\\n",
       "0  A-1  MapQuest  201.0         3  2016-02-08 05:46:00  2016-02-08 11:00:00   \n",
       "1  A-2  MapQuest  201.0         2  2016-02-08 06:07:59  2016-02-08 06:37:59   \n",
       "2  A-3  MapQuest  201.0         2  2016-02-08 06:49:27  2016-02-08 07:19:27   \n",
       "3  A-4  MapQuest  201.0         3  2016-02-08 07:23:34  2016-02-08 07:53:34   \n",
       "4  A-5  MapQuest  201.0         2  2016-02-08 07:39:07  2016-02-08 08:09:07   \n",
       "\n",
       "   Start_Lat  Start_Lng  End_Lat  End_Lng  ...  Roundabout Station   Stop  \\\n",
       "0  39.865147 -84.058723      NaN      NaN  ...       False   False  False   \n",
       "1  39.928059 -82.831184      NaN      NaN  ...       False   False  False   \n",
       "2  39.063148 -84.032608      NaN      NaN  ...       False   False  False   \n",
       "3  39.747753 -84.205582      NaN      NaN  ...       False   False  False   \n",
       "4  39.627781 -84.188354      NaN      NaN  ...       False   False  False   \n",
       "\n",
       "  Traffic_Calming Traffic_Signal Turning_Loop Sunrise_Sunset Civil_Twilight  \\\n",
       "0           False          False        False          Night          Night   \n",
       "1           False          False        False          Night          Night   \n",
       "2           False           True        False          Night          Night   \n",
       "3           False          False        False          Night            Day   \n",
       "4           False           True        False            Day            Day   \n",
       "\n",
       "  Nautical_Twilight Astronomical_Twilight  \n",
       "0             Night                 Night  \n",
       "1             Night                   Day  \n",
       "2               Day                   Day  \n",
       "3               Day                   Day  \n",
       "4               Day                   Day  \n",
       "\n",
       "[5 rows x 49 columns]"
      ]
     },
     "execution_count": 5,
     "metadata": {},
     "output_type": "execute_result"
    }
   ],
   "source": [
    "all_accidents.head()"
   ]
  },
  {
   "cell_type": "code",
   "execution_count": 6,
   "metadata": {},
   "outputs": [],
   "source": [
    "#TMC is traffic message code giving more details about the accidents for example: 202: Serious accidents 241:Right lane blocked\n",
    "#End_Lat and End_Long shows the end point of the accident and %77 percent of the data is null we can drop that columns\n",
    "#Number indicates the street number which has more than 50 percent of null values but we have other column called street which shows street names.\n",
    "#We can get rid of number column as well\n",
    "#Airport Code: Denotes an airport-based weather station which is the closest one to location of the accident.\n",
    "#Wind_Chill(F) Shows the wind chill\n",
    "#Precipitation: Shows precipitation amount in inches, if there is any."
   ]
  },
  {
   "cell_type": "code",
   "execution_count": 7,
   "metadata": {},
   "outputs": [
    {
     "data": {
      "text/html": [
       "<div>\n",
       "<style scoped>\n",
       "    .dataframe tbody tr th:only-of-type {\n",
       "        vertical-align: middle;\n",
       "    }\n",
       "\n",
       "    .dataframe tbody tr th {\n",
       "        vertical-align: top;\n",
       "    }\n",
       "\n",
       "    .dataframe thead th {\n",
       "        text-align: right;\n",
       "    }\n",
       "</style>\n",
       "<table border=\"1\" class=\"dataframe\">\n",
       "  <thead>\n",
       "    <tr style=\"text-align: right;\">\n",
       "      <th></th>\n",
       "      <th>State</th>\n",
       "      <th>alcoholConsumptionGallons</th>\n",
       "      <th>alcoholConsumptionLiters</th>\n",
       "      <th>Pop</th>\n",
       "    </tr>\n",
       "  </thead>\n",
       "  <tbody>\n",
       "    <tr>\n",
       "      <th>46</th>\n",
       "      <td>North Dakota</td>\n",
       "      <td>3.26</td>\n",
       "      <td>12.34</td>\n",
       "      <td>760900</td>\n",
       "    </tr>\n",
       "    <tr>\n",
       "      <th>47</th>\n",
       "      <td>Nevada</td>\n",
       "      <td>3.46</td>\n",
       "      <td>13.10</td>\n",
       "      <td>3087025</td>\n",
       "    </tr>\n",
       "    <tr>\n",
       "      <th>48</th>\n",
       "      <td>Delaware</td>\n",
       "      <td>3.72</td>\n",
       "      <td>14.08</td>\n",
       "      <td>975033</td>\n",
       "    </tr>\n",
       "    <tr>\n",
       "      <th>49</th>\n",
       "      <td>District of Columbia</td>\n",
       "      <td>3.85</td>\n",
       "      <td>14.57</td>\n",
       "      <td>711571</td>\n",
       "    </tr>\n",
       "    <tr>\n",
       "      <th>50</th>\n",
       "      <td>New Hampshire</td>\n",
       "      <td>4.76</td>\n",
       "      <td>18.02</td>\n",
       "      <td>1363852</td>\n",
       "    </tr>\n",
       "  </tbody>\n",
       "</table>\n",
       "</div>"
      ],
      "text/plain": [
       "                   State  alcoholConsumptionGallons  alcoholConsumptionLiters  \\\n",
       "46          North Dakota                       3.26                     12.34   \n",
       "47                Nevada                       3.46                     13.10   \n",
       "48              Delaware                       3.72                     14.08   \n",
       "49  District of Columbia                       3.85                     14.57   \n",
       "50         New Hampshire                       4.76                     18.02   \n",
       "\n",
       "        Pop  \n",
       "46   760900  \n",
       "47  3087025  \n",
       "48   975033  \n",
       "49   711571  \n",
       "50  1363852  "
      ]
     },
     "execution_count": 7,
     "metadata": {},
     "output_type": "execute_result"
    }
   ],
   "source": [
    "alc_cons = pd.read_csv('Alcohol_Consumption.csv')\n",
    "alc_cons.tail()"
   ]
  },
  {
   "cell_type": "code",
   "execution_count": 8,
   "metadata": {},
   "outputs": [
    {
     "data": {
      "text/html": [
       "<div>\n",
       "<style scoped>\n",
       "    .dataframe tbody tr th:only-of-type {\n",
       "        vertical-align: middle;\n",
       "    }\n",
       "\n",
       "    .dataframe tbody tr th {\n",
       "        vertical-align: top;\n",
       "    }\n",
       "\n",
       "    .dataframe thead th {\n",
       "        text-align: right;\n",
       "    }\n",
       "</style>\n",
       "<table border=\"1\" class=\"dataframe\">\n",
       "  <thead>\n",
       "    <tr style=\"text-align: right;\">\n",
       "      <th></th>\n",
       "      <th>State</th>\n",
       "      <th>alcoholConsumptionGallons</th>\n",
       "      <th>alcoholConsumptionLiters</th>\n",
       "      <th>Pop</th>\n",
       "      <th>State_Abb</th>\n",
       "    </tr>\n",
       "  </thead>\n",
       "  <tbody>\n",
       "    <tr>\n",
       "      <th>0</th>\n",
       "      <td>Utah</td>\n",
       "      <td>1.34</td>\n",
       "      <td>5.07</td>\n",
       "      <td>3221610</td>\n",
       "      <td>UT</td>\n",
       "    </tr>\n",
       "    <tr>\n",
       "      <th>1</th>\n",
       "      <td>West Virginia</td>\n",
       "      <td>1.76</td>\n",
       "      <td>6.66</td>\n",
       "      <td>1791951</td>\n",
       "      <td>WV</td>\n",
       "    </tr>\n",
       "    <tr>\n",
       "      <th>2</th>\n",
       "      <td>Arkansas</td>\n",
       "      <td>1.80</td>\n",
       "      <td>6.81</td>\n",
       "      <td>3026412</td>\n",
       "      <td>AR</td>\n",
       "    </tr>\n",
       "    <tr>\n",
       "      <th>3</th>\n",
       "      <td>Oklahoma</td>\n",
       "      <td>1.88</td>\n",
       "      <td>7.12</td>\n",
       "      <td>3948950</td>\n",
       "      <td>OK</td>\n",
       "    </tr>\n",
       "    <tr>\n",
       "      <th>4</th>\n",
       "      <td>Kansas</td>\n",
       "      <td>1.92</td>\n",
       "      <td>7.27</td>\n",
       "      <td>2910931</td>\n",
       "      <td>KS</td>\n",
       "    </tr>\n",
       "  </tbody>\n",
       "</table>\n",
       "</div>"
      ],
      "text/plain": [
       "           State  alcoholConsumptionGallons  alcoholConsumptionLiters  \\\n",
       "0           Utah                       1.34                      5.07   \n",
       "1  West Virginia                       1.76                      6.66   \n",
       "2       Arkansas                       1.80                      6.81   \n",
       "3       Oklahoma                       1.88                      7.12   \n",
       "4         Kansas                       1.92                      7.27   \n",
       "\n",
       "       Pop State_Abb  \n",
       "0  3221610        UT  \n",
       "1  1791951        WV  \n",
       "2  3026412        AR  \n",
       "3  3948950        OK  \n",
       "4  2910931        KS  "
      ]
     },
     "execution_count": 8,
     "metadata": {},
     "output_type": "execute_result"
    }
   ],
   "source": [
    "#Adding abbreviations columns for the state names\n",
    "us_state_abbrev = {\n",
    "    'Alabama': 'AL',\n",
    "    'Alaska': 'AK',\n",
    "    'Arizona': 'AZ',\n",
    "    'Arkansas': 'AR',\n",
    "    'California': 'CA',\n",
    "    'Colorado': 'CO',\n",
    "    'Connecticut': 'CT',\n",
    "    'Delaware': 'DE',\n",
    "    'District of Columbia': 'DC',\n",
    "    'Florida': 'FL',\n",
    "    'Georgia': 'GA',\n",
    "    'Hawaii': 'HI',\n",
    "    'Idaho': 'ID',\n",
    "    'Illinois': 'IL',\n",
    "    'Indiana': 'IN',\n",
    "    'Iowa': 'IA',\n",
    "    'Kansas': 'KS',\n",
    "    'Kentucky': 'KY',\n",
    "    'Louisiana': 'LA',\n",
    "    'Maine': 'ME',\n",
    "    'Maryland': 'MD',\n",
    "    'Massachusetts': 'MA',\n",
    "    'Michigan': 'MI',\n",
    "    'Minnesota': 'MN',\n",
    "    'Mississippi': 'MS',\n",
    "    'Missouri': 'MO',\n",
    "    'Montana': 'MT',\n",
    "    'Nebraska': 'NE',\n",
    "    'Nevada': 'NV',\n",
    "    'New Hampshire': 'NH',\n",
    "    'New Jersey': 'NJ',\n",
    "    'New Mexico': 'NM',\n",
    "    'New York': 'NY',\n",
    "    'North Carolina': 'NC',\n",
    "    'North Dakota': 'ND',\n",
    "    'Northern Mariana Islands':'MP',\n",
    "    'Ohio': 'OH',\n",
    "    'Oklahoma': 'OK',\n",
    "    'Oregon': 'OR',\n",
    "    'Palau': 'PW',\n",
    "    'Pennsylvania': 'PA',\n",
    "    'Puerto Rico': 'PR',\n",
    "    'Rhode Island': 'RI',\n",
    "    'South Carolina': 'SC',\n",
    "    'South Dakota': 'SD',\n",
    "    'Tennessee': 'TN',\n",
    "    'Texas': 'TX',\n",
    "    'Utah': 'UT',\n",
    "    'Vermont': 'VT',\n",
    "    'Virgin Islands': 'VI',\n",
    "    'Virginia': 'VA',\n",
    "    'Washington': 'WA',\n",
    "    'West Virginia': 'WV',\n",
    "    'Wisconsin': 'WI',\n",
    "    'Wyoming': 'WY',\n",
    "}\n",
    "\n",
    "alc_cons['State_Abb'] = [us_state_abbrev[x] for x in alc_cons.State]\n",
    "#Drop Hawai and Alaska\n",
    "alc_cons.drop(alc_cons.index[[33,42]], inplace=True)\n",
    "alc_cons.reset_index(drop=True,inplace=True)\n",
    "alc_cons.head()"
   ]
  },
  {
   "cell_type": "code",
   "execution_count": 9,
   "metadata": {},
   "outputs": [
    {
     "data": {
      "text/html": [
       "<div>\n",
       "<style scoped>\n",
       "    .dataframe tbody tr th:only-of-type {\n",
       "        vertical-align: middle;\n",
       "    }\n",
       "\n",
       "    .dataframe tbody tr th {\n",
       "        vertical-align: top;\n",
       "    }\n",
       "\n",
       "    .dataframe thead th {\n",
       "        text-align: right;\n",
       "    }\n",
       "</style>\n",
       "<table border=\"1\" class=\"dataframe\">\n",
       "  <thead>\n",
       "    <tr style=\"text-align: right;\">\n",
       "      <th></th>\n",
       "      <th>State</th>\n",
       "      <th>Total_Accidents</th>\n",
       "    </tr>\n",
       "  </thead>\n",
       "  <tbody>\n",
       "    <tr>\n",
       "      <th>0</th>\n",
       "      <td>OH</td>\n",
       "      <td>46100</td>\n",
       "    </tr>\n",
       "    <tr>\n",
       "      <th>1</th>\n",
       "      <td>WV</td>\n",
       "      <td>1951</td>\n",
       "    </tr>\n",
       "    <tr>\n",
       "      <th>2</th>\n",
       "      <td>CA</td>\n",
       "      <td>484706</td>\n",
       "    </tr>\n",
       "    <tr>\n",
       "      <th>3</th>\n",
       "      <td>FL</td>\n",
       "      <td>177490</td>\n",
       "    </tr>\n",
       "    <tr>\n",
       "      <th>4</th>\n",
       "      <td>GA</td>\n",
       "      <td>66637</td>\n",
       "    </tr>\n",
       "  </tbody>\n",
       "</table>\n",
       "</div>"
      ],
      "text/plain": [
       "  State  Total_Accidents\n",
       "0    OH            46100\n",
       "1    WV             1951\n",
       "2    CA           484706\n",
       "3    FL           177490\n",
       "4    GA            66637"
      ]
     },
     "execution_count": 9,
     "metadata": {},
     "output_type": "execute_result"
    }
   ],
   "source": [
    "#Let's find total accident number of the states\n",
    "states_accidents = pd.DataFrame({'State': all_accidents.State.unique()})\n",
    "total_number_of_accidents = []\n",
    "for state in states_accidents.State:\n",
    "    total_number_of_accidents.append(all_accidents.State.value_counts()[state])\n",
    "states_accidents['Total_Accidents'] = total_number_of_accidents\n",
    "states_accidents.head()"
   ]
  },
  {
   "cell_type": "code",
   "execution_count": 10,
   "metadata": {},
   "outputs": [
    {
     "data": {
      "text/html": [
       "<div>\n",
       "<style scoped>\n",
       "    .dataframe tbody tr th:only-of-type {\n",
       "        vertical-align: middle;\n",
       "    }\n",
       "\n",
       "    .dataframe tbody tr th {\n",
       "        vertical-align: top;\n",
       "    }\n",
       "\n",
       "    .dataframe thead th {\n",
       "        text-align: right;\n",
       "    }\n",
       "</style>\n",
       "<table border=\"1\" class=\"dataframe\">\n",
       "  <thead>\n",
       "    <tr style=\"text-align: right;\">\n",
       "      <th></th>\n",
       "      <th>State</th>\n",
       "      <th>alcoholConsumptionGallons</th>\n",
       "      <th>alcoholConsumptionLiters</th>\n",
       "      <th>Pop</th>\n",
       "      <th>Tot_Acc</th>\n",
       "      <th>acc_rate_per_capita</th>\n",
       "    </tr>\n",
       "  </thead>\n",
       "  <tbody>\n",
       "    <tr>\n",
       "      <th>0</th>\n",
       "      <td>Utah</td>\n",
       "      <td>1.34</td>\n",
       "      <td>5.07</td>\n",
       "      <td>3221610</td>\n",
       "      <td>23212</td>\n",
       "      <td>0.007205</td>\n",
       "    </tr>\n",
       "    <tr>\n",
       "      <th>1</th>\n",
       "      <td>West Virginia</td>\n",
       "      <td>1.76</td>\n",
       "      <td>6.66</td>\n",
       "      <td>1791951</td>\n",
       "      <td>1951</td>\n",
       "      <td>0.001089</td>\n",
       "    </tr>\n",
       "    <tr>\n",
       "      <th>2</th>\n",
       "      <td>Arkansas</td>\n",
       "      <td>1.80</td>\n",
       "      <td>6.81</td>\n",
       "      <td>3026412</td>\n",
       "      <td>1019</td>\n",
       "      <td>0.000337</td>\n",
       "    </tr>\n",
       "    <tr>\n",
       "      <th>3</th>\n",
       "      <td>Oklahoma</td>\n",
       "      <td>1.88</td>\n",
       "      <td>7.12</td>\n",
       "      <td>3948950</td>\n",
       "      <td>36183</td>\n",
       "      <td>0.009163</td>\n",
       "    </tr>\n",
       "    <tr>\n",
       "      <th>4</th>\n",
       "      <td>Kansas</td>\n",
       "      <td>1.92</td>\n",
       "      <td>7.27</td>\n",
       "      <td>2910931</td>\n",
       "      <td>5486</td>\n",
       "      <td>0.001885</td>\n",
       "    </tr>\n",
       "  </tbody>\n",
       "</table>\n",
       "</div>"
      ],
      "text/plain": [
       "           State  alcoholConsumptionGallons  alcoholConsumptionLiters  \\\n",
       "0           Utah                       1.34                      5.07   \n",
       "1  West Virginia                       1.76                      6.66   \n",
       "2       Arkansas                       1.80                      6.81   \n",
       "3       Oklahoma                       1.88                      7.12   \n",
       "4         Kansas                       1.92                      7.27   \n",
       "\n",
       "       Pop  Tot_Acc  acc_rate_per_capita  \n",
       "0  3221610    23212             0.007205  \n",
       "1  1791951     1951             0.001089  \n",
       "2  3026412     1019             0.000337  \n",
       "3  3948950    36183             0.009163  \n",
       "4  2910931     5486             0.001885  "
      ]
     },
     "execution_count": 10,
     "metadata": {},
     "output_type": "execute_result"
    }
   ],
   "source": [
    "tot_acc = []\n",
    "count = 0\n",
    "for state in alc_cons.State_Abb:\n",
    "    tot_acc.append(states_accidents.loc[states_accidents.State == state]['Total_Accidents'].item())\n",
    "alc_cons['Tot_Acc'] = tot_acc\n",
    "df_alc = alc_cons.drop('State_Abb',axis=1)\n",
    "df_alc['acc_rate_per_capita'] = df_alc.Tot_Acc/df_alc.Pop\n",
    "df_alc.head()"
   ]
  },
  {
   "cell_type": "code",
   "execution_count": 11,
   "metadata": {},
   "outputs": [
    {
     "data": {
      "text/html": [
       "<div>\n",
       "<style scoped>\n",
       "    .dataframe tbody tr th:only-of-type {\n",
       "        vertical-align: middle;\n",
       "    }\n",
       "\n",
       "    .dataframe tbody tr th {\n",
       "        vertical-align: top;\n",
       "    }\n",
       "\n",
       "    .dataframe thead th {\n",
       "        text-align: right;\n",
       "    }\n",
       "</style>\n",
       "<table border=\"1\" class=\"dataframe\">\n",
       "  <thead>\n",
       "    <tr style=\"text-align: right;\">\n",
       "      <th></th>\n",
       "      <th>alcoholConsumptionGallons</th>\n",
       "      <th>alcoholConsumptionLiters</th>\n",
       "      <th>Pop</th>\n",
       "      <th>Tot_Acc</th>\n",
       "      <th>acc_rate_per_capita</th>\n",
       "    </tr>\n",
       "  </thead>\n",
       "  <tbody>\n",
       "    <tr>\n",
       "      <th>count</th>\n",
       "      <td>49.000000</td>\n",
       "      <td>49.000000</td>\n",
       "      <td>4.900000e+01</td>\n",
       "      <td>49.000000</td>\n",
       "      <td>49.000000</td>\n",
       "    </tr>\n",
       "    <tr>\n",
       "      <th>mean</th>\n",
       "      <td>2.504286</td>\n",
       "      <td>9.479184</td>\n",
       "      <td>6.675325e+06</td>\n",
       "      <td>45794.673469</td>\n",
       "      <td>0.005014</td>\n",
       "    </tr>\n",
       "    <tr>\n",
       "      <th>std</th>\n",
       "      <td>0.594289</td>\n",
       "      <td>2.249879</td>\n",
       "      <td>7.465370e+06</td>\n",
       "      <td>79053.322475</td>\n",
       "      <td>0.003728</td>\n",
       "    </tr>\n",
       "    <tr>\n",
       "      <th>min</th>\n",
       "      <td>1.340000</td>\n",
       "      <td>5.070000</td>\n",
       "      <td>5.723810e+05</td>\n",
       "      <td>37.000000</td>\n",
       "      <td>0.000049</td>\n",
       "    </tr>\n",
       "    <tr>\n",
       "      <th>25%</th>\n",
       "      <td>2.150000</td>\n",
       "      <td>8.140000</td>\n",
       "      <td>1.940919e+06</td>\n",
       "      <td>4586.000000</td>\n",
       "      <td>0.002209</td>\n",
       "    </tr>\n",
       "    <tr>\n",
       "      <th>50%</th>\n",
       "      <td>2.340000</td>\n",
       "      <td>8.860000</td>\n",
       "      <td>4.652581e+06</td>\n",
       "      <td>23212.000000</td>\n",
       "      <td>0.004522</td>\n",
       "    </tr>\n",
       "    <tr>\n",
       "      <th>75%</th>\n",
       "      <td>2.770000</td>\n",
       "      <td>10.490000</td>\n",
       "      <td>7.666343e+06</td>\n",
       "      <td>46100.000000</td>\n",
       "      <td>0.007166</td>\n",
       "    </tr>\n",
       "    <tr>\n",
       "      <th>max</th>\n",
       "      <td>4.760000</td>\n",
       "      <td>18.020000</td>\n",
       "      <td>3.974727e+07</td>\n",
       "      <td>484706.000000</td>\n",
       "      <td>0.019407</td>\n",
       "    </tr>\n",
       "  </tbody>\n",
       "</table>\n",
       "</div>"
      ],
      "text/plain": [
       "       alcoholConsumptionGallons  alcoholConsumptionLiters           Pop  \\\n",
       "count                  49.000000                 49.000000  4.900000e+01   \n",
       "mean                    2.504286                  9.479184  6.675325e+06   \n",
       "std                     0.594289                  2.249879  7.465370e+06   \n",
       "min                     1.340000                  5.070000  5.723810e+05   \n",
       "25%                     2.150000                  8.140000  1.940919e+06   \n",
       "50%                     2.340000                  8.860000  4.652581e+06   \n",
       "75%                     2.770000                 10.490000  7.666343e+06   \n",
       "max                     4.760000                 18.020000  3.974727e+07   \n",
       "\n",
       "             Tot_Acc  acc_rate_per_capita  \n",
       "count      49.000000            49.000000  \n",
       "mean    45794.673469             0.005014  \n",
       "std     79053.322475             0.003728  \n",
       "min        37.000000             0.000049  \n",
       "25%      4586.000000             0.002209  \n",
       "50%     23212.000000             0.004522  \n",
       "75%     46100.000000             0.007166  \n",
       "max    484706.000000             0.019407  "
      ]
     },
     "execution_count": 11,
     "metadata": {},
     "output_type": "execute_result"
    }
   ],
   "source": [
    "df_alc.describe()"
   ]
  },
  {
   "cell_type": "code",
   "execution_count": 12,
   "metadata": {},
   "outputs": [],
   "source": [
    "#I will try to see if there is a relationship between number of total accidents and alcohol consumption rate\n",
    "#The median value of alcohol cunsumption gallons is 2.34. We will divide the states into two groups where the alcohol consumption\n",
    "#below 2.34 per capita and above. Then we'll run T-test to see if there is a relationship with the number of total accidents\n",
    "#and alcohol consumption"
   ]
  },
  {
   "cell_type": "code",
   "execution_count": 13,
   "metadata": {},
   "outputs": [],
   "source": [
    "less_alc = df_alc.loc[df_alc['alcoholConsumptionGallons'] <= 2.34]\n",
    "more_alc = df_alc.loc[df_alc['alcoholConsumptionGallons'] > 2.34]"
   ]
  },
  {
   "cell_type": "code",
   "execution_count": 14,
   "metadata": {},
   "outputs": [
    {
     "name": "stdout",
     "output_type": "stream",
     "text": [
      "less_alc Total accident is normally distributed\n",
      "more_alc Total accident is normally distributed\n",
      "Sample sizes are different\n",
      "Less alcohol consumer states number: 26 \n",
      "More alcohol consuming states number: 23\n",
      "Samples have equal variances\n"
     ]
    },
    {
     "data": {
      "image/png": "[encoded data removed]",
      "text/plain": [
       "<Figure size 1152x576 with 1 Axes>"
      ]
     },
     "metadata": {
      "needs_background": "light"
     },
     "output_type": "display_data"
    }
   ],
   "source": [
    "#Normality check between two samples\n",
    "alpha = 0.05\n",
    "p_less,k_less = stats.normaltest(less_alc.acc_rate_per_capita)\n",
    "if p_less < alpha:\n",
    "    print(\"less_alc Total accidents is not normally distributed\")\n",
    "else:\n",
    "    print(\"less_alc Total accident is normally distributed\")\n",
    "p_more,k_more = stats.normaltest(more_alc.acc_rate_per_capita)\n",
    "if p_more < alpha:\n",
    "    print(\"more_alc Total accidents is not normally distributed\")\n",
    "else:\n",
    "    print(\"more_alc Total accident is normally distributed\")\n",
    "\n",
    "if len(more_alc) == len(less_alc):\n",
    "    print('Sample sizes are equal')\n",
    "else:\n",
    "    print('Sample sizes are different')\n",
    "print(f\"Less alcohol consumer states number: {len(less_alc)} \\nMore alcohol consuming states number: {len(more_alc)}\")\n",
    "#Equal variance check between two samples\n",
    "p_var, k_var = stats.bartlett(less_alc.acc_rate_per_capita, more_alc.acc_rate_per_capita)\n",
    "if p_var < alpha:\n",
    "    print(\"Samples dont have equal variances\")\n",
    "else:\n",
    "    print(\"Samples have equal variances\")\n",
    "\n",
    "plt.figure(figsize=(16,8))\n",
    "sns.distplot(less_alc.acc_rate_per_capita, hist=False, label='less')\n",
    "sns.distplot(more_alc.acc_rate_per_capita, hist=False, label='more')\n",
    "plt.legend()\n",
    "plt.show()\n",
    "\n"
   ]
  },
  {
   "cell_type": "code",
   "execution_count": 15,
   "metadata": {},
   "outputs": [
    {
     "data": {
      "text/plain": [
       "<matplotlib.axes._subplots.AxesSubplot at 0x1a1a46ef60>"
      ]
     },
     "execution_count": 15,
     "metadata": {},
     "output_type": "execute_result"
    },
    {
     "data": {
      "image/png": "[encoded data removed]",
      "text/plain": [
       "<Figure size 1152x576 with 1 Axes>"
      ]
     },
     "metadata": {
      "needs_background": "light"
     },
     "output_type": "display_data"
    }
   ],
   "source": [
    "plt.figure(figsize=(16,8))\n",
    "sns.regplot(df_alc.alcoholConsumptionGallons, df_alc.acc_rate_per_capita)"
   ]
  },
  {
   "cell_type": "code",
   "execution_count": 16,
   "metadata": {},
   "outputs": [],
   "source": [
    "#The dependant variable of our samples are normally distributed.But since our sample sizes are different we will run\n",
    "#Welch's T-test to compare accident rates of two group of the states where the alcohol consumption is below or above\n",
    "#2.34 gallons per capita. Out null hypothessis is there is no relation between accident rate and alc consumption rate\n",
    "#Wm1 is the average acc rates in the states where alcohol consumption rate is above 2.34 gallons \n",
    "#m2 is the average acc rates in the states where alcohol consumption rate is below 2.34 gallons\n",
    "#Null hypothessis there is no relation between alcohol cons. rate and accidents \n",
    "#H0: m1 = m2\n",
    "#Alternative hypothessis is there is a relation between alcohol consumption rate and accident rate\n",
    "#H1:  m1 != m2\n",
    "\n",
    "#As we see above it seems when the alcohol consumption increases the traffic accident rate decreases. We will run a\n",
    "#Welch's T test to see if this difference statically significant"
   ]
  },
  {
   "cell_type": "markdown",
   "metadata": {},
   "source": [
    "Let's remember the Welch's T statistic formula\n",
    "\n",
    "# $ t = \\frac{\\bar{X_1}-\\bar{X_2}}{\\sqrt{\\frac{s_1^2}{N_1} + \\frac{s_2^2}{N_2}}} = \\frac{\\bar{X_1}-\\bar{X_2}}{\\sqrt{se_1^2+se_2^2}}$"
   ]
  },
  {
   "cell_type": "code",
   "execution_count": 17,
   "metadata": {},
   "outputs": [],
   "source": [
    "# Calculate Welch's t-statistic for two samples.\n",
    "def welch_t(a, b):\n",
    "    \n",
    "    numerator = a.mean() - b.mean()\n",
    "    \n",
    "    # “ddof = Delta Degrees of Freedom”: the divisor used in the calculation is N - ddof, \n",
    "    #  where N represents the number of elements. By default ddof is zero.\n",
    "    \n",
    "    denominator = np.sqrt(a.var(ddof=1)/a.size + b.var(ddof=1)/b.size)\n",
    "    \n",
    "    return np.abs(numerator/denominator)\n",
    "\n",
    "t1 = welch_t(more_alc.acc_rate_per_capita, less_alc.acc_rate_per_capita)"
   ]
  },
  {
   "cell_type": "markdown",
   "metadata": {},
   "source": [
    "Then we will calculate the degrees of freedom\n",
    "\n",
    "# $ v \\approx \\frac{\\left( \\frac{s_1^2}{N_1} + \\frac{s_2^2}{N_2}\\right)^2}{\\frac{s_1^4}{N_1^2v_1} + \\frac{s_2^4}{N_2^2v_2}} $\n",
    "\n",
    "$N_i$ - sample size of sample i  \n",
    "$s_i$ - variance of sample i  \n",
    "$v_i$ - degrees of freedom for sample i (equivalent to $N_i$-1)  "
   ]
  },
  {
   "cell_type": "code",
   "execution_count": 161,
   "metadata": {},
   "outputs": [],
   "source": [
    "#Calculate the effective degrees of freedom for two samples.\n",
    "def welch_df(a, b):\n",
    "    \n",
    "    s1 = a.var(ddof=1) \n",
    "    s2 = b.var(ddof=1)\n",
    "    n1 = a.size\n",
    "    n2 = b.size\n",
    "    \n",
    "    numerator = (s1/n1 + s2/n2)**2\n",
    "    denominator = (s1/ n1)**2/(n1 - 1) + (s2/ n2)**2/(n2 - 1)\n",
    "    \n",
    "    return numerator/denominator\n",
    "\n",
    "dof1 = welch_df(more_alc.acc_rate_per_capita, less_alc.acc_rate_per_capita)"
   ]
  },
  {
   "cell_type": "code",
   "execution_count": 19,
   "metadata": {},
   "outputs": [
    {
     "name": "stdout",
     "output_type": "stream",
     "text": [
      "T: 2.3469063274390414, Degrees of Freedom: 45.54970432270515\n"
     ]
    }
   ],
   "source": [
    "print(f'T: {t1}, Degrees of Freedom: {dof1}')"
   ]
  },
  {
   "cell_type": "code",
   "execution_count": 20,
   "metadata": {},
   "outputs": [],
   "source": [
    "#Function to convert the values to a p value by using cumulative distribution function\n",
    "def p_value(a, b, two_sided=False):\n",
    "\n",
    "    t = welch_t(a, b)\n",
    "    df = welch_df(a, b)\n",
    "    \n",
    "    p = 1-stats.t.cdf(np.abs(t), df)\n",
    "    \n",
    "    if two_sided:\n",
    "        return 2*p\n",
    "    else:\n",
    "        return p\n",
    "p1 = round(p_value(more_alc.acc_rate_per_capita, less_alc.acc_rate_per_capita), 4)"
   ]
  },
  {
   "cell_type": "code",
   "execution_count": 170,
   "metadata": {},
   "outputs": [
    {
     "name": "stdout",
     "output_type": "stream",
     "text": [
      "0.0117\n"
     ]
    }
   ],
   "source": [
    "print(p1)"
   ]
  },
  {
   "cell_type": "code",
   "execution_count": 22,
   "metadata": {},
   "outputs": [],
   "source": [
    "#P value is low. We can reject the null hypothessis succesfully. We will find our effect size to see how big is the\n",
    "#difference. To meausure effect size we will use Cohen d's formula"
   ]
  },
  {
   "cell_type": "markdown",
   "metadata": {},
   "source": [
    "The basic formula to calculate Cohen’s $d$ is:\n",
    "\n",
    "> **$d$ = effect size (difference of means) / pooled standard deviation**"
   ]
  },
  {
   "cell_type": "code",
   "execution_count": 23,
   "metadata": {},
   "outputs": [
    {
     "data": {
      "text/plain": [
       "0.66"
      ]
     },
     "execution_count": 23,
     "metadata": {},
     "output_type": "execute_result"
    }
   ],
   "source": [
    "# Compute Cohen's d.\n",
    "def Cohen_d(group1, group2):\n",
    "\n",
    "    # returns a floating point number \n",
    "\n",
    "    diff = group1.mean() - group2.mean()\n",
    "\n",
    "    n1, n2 = len(group1), len(group2)\n",
    "    var1 = group1.var()\n",
    "    var2 = group2.var()\n",
    "\n",
    "    # Calculate the pooled threshold as shown earlier\n",
    "    pooled_var = (n1 * var1 + n2 * var2) / (n1 + n2)\n",
    "    \n",
    "    # Calculate Cohen's d statistic\n",
    "    d = diff / np.sqrt(pooled_var)\n",
    "    \n",
    "    return d\n",
    "effect_size = round(Cohen_d(less_alc.acc_rate_per_capita, more_alc.acc_rate_per_capita), 3)\n",
    "print(effect_size)"
   ]
  },
  {
   "cell_type": "code",
   "execution_count": 181,
   "metadata": {},
   "outputs": [],
   "source": [
    "#Our effect size is 0.66 which is medium effect size according to the general \n",
    "#understanding of Cohen d's effect size interpretation"
   ]
  },
  {
   "cell_type": "markdown",
   "metadata": {},
   "source": [
    "Small effect = 0.2\n",
    "\n",
    "\n",
    "Medium Effect = 0.5\n",
    "\n",
    "Large Effect = 0.8"
   ]
  },
  {
   "cell_type": "code",
   "execution_count": 180,
   "metadata": {},
   "outputs": [
    {
     "data": {
      "image/png": "[encoded data removed]",
      "text/plain": [
       "<Figure size 1152x576 with 1 Axes>"
      ]
     },
     "metadata": {
      "needs_background": "light"
     },
     "output_type": "display_data"
    }
   ],
   "source": [
    "plt.figure(figsize=(16,8))\n",
    "sns.distplot(less_alc.acc_rate_per_capita, hist=False, label='less_alcohol')\n",
    "sns.distplot(more_alc.acc_rate_per_capita, hist=False, label='more_alcohol')\n",
    "\n",
    "line1 = less_alc.acc_rate_per_capita.mean()\n",
    "line2 = more_alc.acc_rate_per_capita.mean()\n",
    "\n",
    "plt.vlines(line1,ymin=0,ymax=117, linestyles=\"--\", colors=\"blue\")\n",
    "plt.vlines(line2, ymin=0, ymax=117, linestyles=\"--\")\n",
    "plt.hlines(120,xmin=line2, xmax=line1,colors=\"red\",label=\"Cohen's d\", linestyles=\"--\")\n",
    "plt.title(\"Mean difference between traffic accident rates \")\n",
    "plt.legend()\n",
    "plt.show()"
   ]
  },
  {
   "cell_type": "code",
   "execution_count": 26,
   "metadata": {},
   "outputs": [
    {
     "name": "stdout",
     "output_type": "stream",
     "text": [
      "Power: 0.62, beta: 0.38\n"
     ]
    }
   ],
   "source": [
    "#Calculating power and type2 error rate \n",
    "power_analysis = TTestIndPower()\n",
    "ratio = len(more_alc.acc_rate_per_capita)/len(less_alc.acc_rate_per_capita)\n",
    "power = power_analysis.solve_power(effect_size=.66, nobs1=26, alpha=.05, ratio=ratio)\n",
    "beta = round((1 - power),2)\n",
    "print(f'Power: {round(power,2)}, beta: {beta}')"
   ]
  },
  {
   "cell_type": "markdown",
   "metadata": {},
   "source": [
    "As a second hypothesis testing I will try to see if the number of crimes is related to the number of accidents happening in Cali."
   ]
  },
  {
   "cell_type": "code",
   "execution_count": 28,
   "metadata": {},
   "outputs": [],
   "source": [
    "#A lot of accident records came from the most populous states like Cali or Texas. We will focus on the accidents\n",
    "#in California. \n",
    "#I will try to see if there is a relation between the number of violent crimes and the number of the accidents in California\n",
    "#We will choose only the important features for our spesific state based accidents' data set those are\n",
    "#['ID','TMC','Severity','Start Time', 'End_Time', 'Start_Lat', 'Start_Lng', 'City', 'County', 'State','Temperature','Humidity(%)','Pressure(in)','Visibility(mi)','Wind_Speed(mph)','Weather_Condition','Sunrise_Sunset']"
   ]
  },
  {
   "cell_type": "code",
   "execution_count": 89,
   "metadata": {},
   "outputs": [],
   "source": [
    "cali_accidents = all_accidents.loc[all_accidents['State'] == 'CA'][['ID','TMC','Severity','Start_Time', 'End_Time', 'Start_Lat', 'Start_Lng', 'City', 'County', 'State','Temperature(F)','Humidity(%)','Pressure(in)','Visibility(mi)','Wind_Speed(mph)','Weather_Condition','Sunrise_Sunset']]\n",
    "cali_accidents['Start_Time'] = pd.to_datetime(cali_accidents['Start_Time'], errors='coerce')\n",
    "cali_accidents['End_Time'] = pd.to_datetime(cali_accidents['End_Time'], errors='coerce')"
   ]
  },
  {
   "cell_type": "code",
   "execution_count": 90,
   "metadata": {},
   "outputs": [],
   "source": [
    "county_accidents = pd.DataFrame({'County': cali_accidents.County.unique()})"
   ]
  },
  {
   "cell_type": "code",
   "execution_count": 91,
   "metadata": {},
   "outputs": [],
   "source": [
    "#Let's find total accident number of the states\n",
    "\n",
    "tot_numb_of_accidents = []\n",
    "for county in county_accidents.County:\n",
    "    tot_numb_of_accidents.append(cali_accidents.County.value_counts()[county])\n",
    "county_accidents['Total_Accidents'] = tot_numb_of_accidents\n",
    "county_accidents.sort_values(by='County',inplace=True)\n",
    "county_accidents.reset_index(drop=True,inplace=True)\n",
    "county_accidents.drop(index=37,inplace=True)\n",
    "county_accidents.reset_index(drop=True,inplace=True)"
   ]
  },
  {
   "cell_type": "code",
   "execution_count": 92,
   "metadata": {},
   "outputs": [],
   "source": [
    "criminal_offence = pd.read_csv(\"ca_offenses_by_county.csv\")"
   ]
  },
  {
   "cell_type": "code",
   "execution_count": 93,
   "metadata": {},
   "outputs": [],
   "source": [
    "crime = criminal_offence[['County', 'Violent crime']].dropna()"
   ]
  },
  {
   "cell_type": "code",
   "execution_count": 94,
   "metadata": {},
   "outputs": [],
   "source": [
    "crime.sort_values(by='County', inplace=True)\n",
    "crime.reset_index(drop=True, inplace=True)"
   ]
  },
  {
   "cell_type": "code",
   "execution_count": 122,
   "metadata": {},
   "outputs": [],
   "source": [
    "import string\n",
    "crime_number = []\n",
    "for a in crime['Violent crime']:\n",
    "    no_punc = a.translate(str.maketrans('', '', string.punctuation))\n",
    "    number = int(no_punc)\n",
    "    crime_number.append(number)"
   ]
  },
  {
   "cell_type": "code",
   "execution_count": 123,
   "metadata": {},
   "outputs": [],
   "source": [
    "county_accidents['Crime'] = crime_number"
   ]
  },
  {
   "cell_type": "code",
   "execution_count": 132,
   "metadata": {},
   "outputs": [
    {
     "data": {
      "text/html": [
       "<div>\n",
       "<style scoped>\n",
       "    .dataframe tbody tr th:only-of-type {\n",
       "        vertical-align: middle;\n",
       "    }\n",
       "\n",
       "    .dataframe tbody tr th {\n",
       "        vertical-align: top;\n",
       "    }\n",
       "\n",
       "    .dataframe thead th {\n",
       "        text-align: right;\n",
       "    }\n",
       "</style>\n",
       "<table border=\"1\" class=\"dataframe\">\n",
       "  <thead>\n",
       "    <tr style=\"text-align: right;\">\n",
       "      <th></th>\n",
       "      <th>County</th>\n",
       "      <th>Total_Accidents</th>\n",
       "      <th>Crime</th>\n",
       "    </tr>\n",
       "  </thead>\n",
       "  <tbody>\n",
       "    <tr>\n",
       "      <th>0</th>\n",
       "      <td>Alameda</td>\n",
       "      <td>33911</td>\n",
       "      <td>510</td>\n",
       "    </tr>\n",
       "    <tr>\n",
       "      <th>1</th>\n",
       "      <td>Alpine</td>\n",
       "      <td>24</td>\n",
       "      <td>9</td>\n",
       "    </tr>\n",
       "    <tr>\n",
       "      <th>2</th>\n",
       "      <td>Amador</td>\n",
       "      <td>534</td>\n",
       "      <td>50</td>\n",
       "    </tr>\n",
       "    <tr>\n",
       "      <th>3</th>\n",
       "      <td>Butte</td>\n",
       "      <td>842</td>\n",
       "      <td>155</td>\n",
       "    </tr>\n",
       "    <tr>\n",
       "      <th>4</th>\n",
       "      <td>Calaveras</td>\n",
       "      <td>685</td>\n",
       "      <td>111</td>\n",
       "    </tr>\n",
       "  </tbody>\n",
       "</table>\n",
       "</div>"
      ],
      "text/plain": [
       "      County  Total_Accidents  Crime\n",
       "0    Alameda            33911    510\n",
       "1     Alpine               24      9\n",
       "2     Amador              534     50\n",
       "3      Butte              842    155\n",
       "4  Calaveras              685    111"
      ]
     },
     "execution_count": 132,
     "metadata": {},
     "output_type": "execute_result"
    }
   ],
   "source": [
    "county_accidents.head()"
   ]
  },
  {
   "cell_type": "code",
   "execution_count": 136,
   "metadata": {},
   "outputs": [],
   "source": [
    "county_pop = pd.read_csv(\"county_pop.csv\")\n",
    "county_pop.drop(\"GrowthRate\", axis=1, inplace=True)\n",
    "county_pop.drop(index=11, inplace=True)\n",
    "county_pop.sort_values(by=\"CTYNAME\",inplace=True)\n",
    "county_pop.reset_index(drop=True,inplace=True)\n",
    "pop = county_pop.Pop"
   ]
  },
  {
   "cell_type": "code",
   "execution_count": 140,
   "metadata": {},
   "outputs": [],
   "source": [
    "county_accidents['Pop'] = pop\n",
    "county_accidents['Crime_Rate'] = county_accidents.Crime/county_accidents.Pop\n",
    "county_accidents['Accident_Rate'] = county_accidents.Total_Accidents/county_accidents.Pop"
   ]
  },
  {
   "cell_type": "code",
   "execution_count": 141,
   "metadata": {},
   "outputs": [
    {
     "data": {
      "text/html": [
       "<div>\n",
       "<style scoped>\n",
       "    .dataframe tbody tr th:only-of-type {\n",
       "        vertical-align: middle;\n",
       "    }\n",
       "\n",
       "    .dataframe tbody tr th {\n",
       "        vertical-align: top;\n",
       "    }\n",
       "\n",
       "    .dataframe thead th {\n",
       "        text-align: right;\n",
       "    }\n",
       "</style>\n",
       "<table border=\"1\" class=\"dataframe\">\n",
       "  <thead>\n",
       "    <tr style=\"text-align: right;\">\n",
       "      <th></th>\n",
       "      <th>Total_Accidents</th>\n",
       "      <th>Crime</th>\n",
       "      <th>Pop</th>\n",
       "      <th>Crime_Rate</th>\n",
       "      <th>Accident_Rate</th>\n",
       "    </tr>\n",
       "  </thead>\n",
       "  <tbody>\n",
       "    <tr>\n",
       "      <th>count</th>\n",
       "      <td>57.000000</td>\n",
       "      <td>57.000000</td>\n",
       "      <td>5.700000e+01</td>\n",
       "      <td>57.000000</td>\n",
       "      <td>57.000000</td>\n",
       "    </tr>\n",
       "    <tr>\n",
       "      <th>mean</th>\n",
       "      <td>8396.491228</td>\n",
       "      <td>438.491228</td>\n",
       "      <td>6.784867e+05</td>\n",
       "      <td>0.001629</td>\n",
       "      <td>0.009396</td>\n",
       "    </tr>\n",
       "    <tr>\n",
       "      <th>std</th>\n",
       "      <td>23902.967866</td>\n",
       "      <td>827.081209</td>\n",
       "      <td>1.488030e+06</td>\n",
       "      <td>0.001514</td>\n",
       "      <td>0.005126</td>\n",
       "    </tr>\n",
       "    <tr>\n",
       "      <th>min</th>\n",
       "      <td>16.000000</td>\n",
       "      <td>3.000000</td>\n",
       "      <td>1.101000e+03</td>\n",
       "      <td>0.000067</td>\n",
       "      <td>0.000280</td>\n",
       "    </tr>\n",
       "    <tr>\n",
       "      <th>25%</th>\n",
       "      <td>312.000000</td>\n",
       "      <td>87.000000</td>\n",
       "      <td>4.560200e+04</td>\n",
       "      <td>0.000567</td>\n",
       "      <td>0.004881</td>\n",
       "    </tr>\n",
       "    <tr>\n",
       "      <th>50%</th>\n",
       "      <td>1444.000000</td>\n",
       "      <td>213.000000</td>\n",
       "      <td>1.818270e+05</td>\n",
       "      <td>0.001123</td>\n",
       "      <td>0.009507</td>\n",
       "    </tr>\n",
       "    <tr>\n",
       "      <th>75%</th>\n",
       "      <td>4227.000000</td>\n",
       "      <td>383.000000</td>\n",
       "      <td>5.498150e+05</td>\n",
       "      <td>0.002434</td>\n",
       "      <td>0.013436</td>\n",
       "    </tr>\n",
       "    <tr>\n",
       "      <th>max</th>\n",
       "      <td>171981.000000</td>\n",
       "      <td>5173.000000</td>\n",
       "      <td>1.010552e+07</td>\n",
       "      <td>0.008174</td>\n",
       "      <td>0.021798</td>\n",
       "    </tr>\n",
       "  </tbody>\n",
       "</table>\n",
       "</div>"
      ],
      "text/plain": [
       "       Total_Accidents        Crime           Pop  Crime_Rate  Accident_Rate\n",
       "count        57.000000    57.000000  5.700000e+01   57.000000      57.000000\n",
       "mean       8396.491228   438.491228  6.784867e+05    0.001629       0.009396\n",
       "std       23902.967866   827.081209  1.488030e+06    0.001514       0.005126\n",
       "min          16.000000     3.000000  1.101000e+03    0.000067       0.000280\n",
       "25%         312.000000    87.000000  4.560200e+04    0.000567       0.004881\n",
       "50%        1444.000000   213.000000  1.818270e+05    0.001123       0.009507\n",
       "75%        4227.000000   383.000000  5.498150e+05    0.002434       0.013436\n",
       "max      171981.000000  5173.000000  1.010552e+07    0.008174       0.021798"
      ]
     },
     "execution_count": 141,
     "metadata": {},
     "output_type": "execute_result"
    }
   ],
   "source": [
    "county_accidents.describe()"
   ]
  },
  {
   "cell_type": "code",
   "execution_count": 154,
   "metadata": {},
   "outputs": [],
   "source": [
    "low_crime = county_accidents.loc[county_accidents.Crime_Rate <= 0.001123]\n",
    "high_crime = county_accidents.loc[county_accidents.Crime_Rate > 0.001123]"
   ]
  },
  {
   "cell_type": "code",
   "execution_count": 142,
   "metadata": {},
   "outputs": [
    {
     "data": {
      "text/plain": [
       "<matplotlib.axes._subplots.AxesSubplot at 0x1a31d1f4e0>"
      ]
     },
     "execution_count": 142,
     "metadata": {},
     "output_type": "execute_result"
    },
    {
     "data": {
      "image/png": "[encoded data removed]",
      "text/plain": [
       "<Figure size 1152x576 with 1 Axes>"
      ]
     },
     "metadata": {
      "needs_background": "light"
     },
     "output_type": "display_data"
    }
   ],
   "source": [
    "plt.figure(figsize=(16,8))\n",
    "sns.regplot(county_accidents.Crime_Rate,\n",
    "            county_accidents.Accident_Rate)"
   ]
  },
  {
   "cell_type": "code",
   "execution_count": 157,
   "metadata": {},
   "outputs": [
    {
     "name": "stdout",
     "output_type": "stream",
     "text": [
      "low_crime accident rate is normally distributed\n",
      "high_crime accident rate is normally distributed\n",
      "Sample sizes are different\n",
      "Number of high crime rate counties: 28 \n",
      "Number of low crime rate counties: 29\n",
      "Samples dont have equal variances\n"
     ]
    },
    {
     "data": {
      "image/png": "[encoded data removed]",
      "text/plain": [
       "<Figure size 1152x576 with 1 Axes>"
      ]
     },
     "metadata": {
      "needs_background": "light"
     },
     "output_type": "display_data"
    }
   ],
   "source": [
    "alpha = 0.05\n",
    "p_low,k_low = stats.normaltest(low_crime.Accident_Rate)\n",
    "if p_less < alpha:\n",
    "    print(\"low_crime accident rate is not normally distributed\")\n",
    "else:\n",
    "    print(\"low_crime accident rate is normally distributed\")\n",
    "p_high,k_high = stats.normaltest(high_crime.Accident_Rate)\n",
    "if p_high < alpha:\n",
    "    print(\"high_crime accident rate is not normally distributed\")\n",
    "else:\n",
    "    print(\"high_crime accident rate is normally distributed\")\n",
    "\n",
    "if len(high_crime) == len(low_crime):\n",
    "    print('Sample sizes are equal')\n",
    "else:\n",
    "    print('Sample sizes are different')\n",
    "print(f\"Number of high crime rate counties: {len(high_crime)} \\nNumber of low crime rate counties: {len(low_crime)}\")\n",
    "#Equal variance check between two samples\n",
    "p_var2, k_var2 = stats.bartlett(high_crime.Accident_Rate,low_crime.Accident_Rate)\n",
    "if p_var2 < alpha:\n",
    "    print(\"Samples dont have equal variances\")\n",
    "else:\n",
    "    print(\"Samples have equal variances\")\n",
    "\n",
    "\n",
    "plt.figure(figsize=(16,8))\n",
    "sns.distplot(low_crime.Accident_Rate, label='low_crime',hist=False)\n",
    "sns.distplot(high_crime.Accident_Rate, label='high_crime', hist=False)\n",
    "plt.title(\"Accident Rates in California among the counties divided by hig and low crime rates\")\n",
    "plt.legend()\n",
    "plt.show()"
   ]
  },
  {
   "cell_type": "code",
   "execution_count": 163,
   "metadata": {},
   "outputs": [
    {
     "name": "stdout",
     "output_type": "stream",
     "text": [
      "T: 1.6809882505218248, Degrees of Freedom: 54.86506279532428, P-Value: 0.0492\n"
     ]
    }
   ],
   "source": [
    "#Calculating Welch's T value\n",
    "t2 = welch_t(high_crime.Accident_Rate, low_crime.Accident_Rate)\n",
    "dof2 = welch_df(high_crime.Accident_Rate, low_crime.Accident_Rate)\n",
    "p2 = round(p_value(high_crime.Accident_Rate, low_crime.Accident_Rate), 4)\n",
    "print(f'T: {t2}, Degrees of Freedom: {dof2}, P-Value: {p2}')"
   ]
  },
  {
   "cell_type": "code",
   "execution_count": 179,
   "metadata": {},
   "outputs": [
    {
     "data": {
      "image/png": "[encoded data removed]",
      "text/plain": [
       "<Figure size 1152x576 with 1 Axes>"
      ]
     },
     "metadata": {
      "needs_background": "light"
     },
     "output_type": "display_data"
    }
   ],
   "source": [
    "plt.figure(figsize=(16,8))\n",
    "sns.distplot(low_crime.Accident_Rate, hist=False, label='low_crime')\n",
    "sns.distplot(high_crime.Accident_Rate, hist=False, label='high_crime')\n",
    "\n",
    "line1 = low_crime.Accident_Rate.mean()\n",
    "line2 = high_crime.Accident_Rate.mean()\n",
    "\n",
    "plt.vlines(line1,ymin=0,ymax=82, linestyles=\"--\", colors='blue')\n",
    "plt.vlines(line2, ymin=0, ymax=82, linestyles=\"--\")\n",
    "plt.hlines(85,xmin=line2, xmax=line1,colors=\"red\",label=\"Cohen's d\", linestyles=\"--\")\n",
    "plt.title(\"Mean difference between traffic accident rates \")\n",
    "plt.legend()\n",
    "plt.show()"
   ]
  },
  {
   "cell_type": "code",
   "execution_count": 171,
   "metadata": {},
   "outputs": [],
   "source": [
    "#P value is low. We can reject the null hypothessis succesfully. We will find our effect size to see how big is the\n",
    "#difference. To meausure effect size we will use Cohen d's formula"
   ]
  },
  {
   "cell_type": "code",
   "execution_count": 174,
   "metadata": {},
   "outputs": [
    {
     "name": "stdout",
     "output_type": "stream",
     "text": [
      "0.445\n"
     ]
    }
   ],
   "source": [
    "effect_size2 = effect_size = round(Cohen_d(low_crime.Accident_Rate, high_crime.Accident_Rate), 3)\n",
    "print(effect_size2)"
   ]
  },
  {
   "cell_type": "code",
   "execution_count": null,
   "metadata": {},
   "outputs": [],
   "source": [
    "#Our effect size is 0.445 which is close to the medium effect size according to the general \n",
    "#understanding of Cohen d's effect size interpretation"
   ]
  },
  {
   "cell_type": "code",
   "execution_count": 186,
   "metadata": {},
   "outputs": [
    {
     "name": "stdout",
     "output_type": "stream",
     "text": [
      "Power: 0.37, beta: 0.63\n"
     ]
    }
   ],
   "source": [
    "#Calculating power and type2 error rate \n",
    "power_analysis = TTestIndPower()\n",
    "ratio1 = len(high_crime)/len(low_crime)\n",
    "power1 = power_analysis.solve_power(effect_size=effect_size2, nobs1=len(high_crime), alpha=.05, ratio=ratio1)\n",
    "beta1 = round((1 - power1),2)\n",
    "print(f'Power: {round(power1,2)}, beta: {beta1}')"
   ]
  },
  {
   "cell_type": "code",
   "execution_count": null,
   "metadata": {},
   "outputs": [],
   "source": []
  },
  {
   "cell_type": "code",
   "execution_count": null,
   "metadata": {},
   "outputs": [],
   "source": []
  },
  {
   "cell_type": "code",
   "execution_count": null,
   "metadata": {},
   "outputs": [],
   "source": []
  }
 ],
 "metadata": {
  "kernelspec": {
   "display_name": "Python 3",
   "language": "python",
   "name": "python3"
  },
  "language_info": {
   "codemirror_mode": {
    "name": "ipython",
    "version": 3
   },
   "file_extension": ".py",
   "mimetype": "text/x-python",
   "name": "python",
   "nbconvert_exporter": "python",
   "pygments_lexer": "ipython3",
   "version": "3.7.3"
  }
 },
 "nbformat": 4,
 "nbformat_minor": 2
}
